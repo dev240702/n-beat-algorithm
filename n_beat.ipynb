{
  "cells": [
    {
      "cell_type": "code",
      "execution_count": null,
      "metadata": {
        "id": "MnVMMW3tMrNv"
      },
      "outputs": [],
      "source": [
        "import pandas as pd\n",
        "import numpy as np\n",
        "import matplotlib.pyplot as plt\n",
        "import tensorflow as tf"
      ]
    },
    {
      "cell_type": "code",
      "execution_count": null,
      "metadata": {
        "id": "Vq16qiEhMrwu"
      },
      "outputs": [],
      "source": [
        "df=pd.read_csv('train.csv',index_col=False)"
      ]
    },
    {
      "cell_type": "code",
      "execution_count": null,
      "metadata": {
        "colab": {
          "base_uri": "https://localhost:8080/",
          "height": 383
        },
        "id": "RkrvkXK6oNNV",
        "outputId": "d05e94ae-23a1-4d39-a2ab-b01133a3ec78"
      },
      "outputs": [
        {
          "output_type": "execute_result",
          "data": {
            "text/html": [
              "\n",
              "  <div id=\"df-2e0a4836-6ffb-4abd-b37b-1a0667043fed\">\n",
              "    <div class=\"colab-df-container\">\n",
              "      <div>\n",
              "<style scoped>\n",
              "    .dataframe tbody tr th:only-of-type {\n",
              "        vertical-align: middle;\n",
              "    }\n",
              "\n",
              "    .dataframe tbody tr th {\n",
              "        vertical-align: top;\n",
              "    }\n",
              "\n",
              "    .dataframe thead th {\n",
              "        text-align: right;\n",
              "    }\n",
              "</style>\n",
              "<table border=\"1\" class=\"dataframe\">\n",
              "  <thead>\n",
              "    <tr style=\"text-align: right;\">\n",
              "      <th></th>\n",
              "      <th>Warehouse id</th>\n",
              "      <th>Region</th>\n",
              "      <th>SKU id</th>\n",
              "      <th>Apr-18</th>\n",
              "      <th>May-18</th>\n",
              "      <th>Jun-18</th>\n",
              "      <th>Jul-18</th>\n",
              "      <th>Aug-18</th>\n",
              "      <th>Sep-18</th>\n",
              "      <th>Oct-18</th>\n",
              "      <th>...</th>\n",
              "      <th>Aug-20</th>\n",
              "      <th>Sep-20</th>\n",
              "      <th>Oct-20</th>\n",
              "      <th>Nov-20</th>\n",
              "      <th>Dec-20</th>\n",
              "      <th>Jan-21</th>\n",
              "      <th>Feb-21</th>\n",
              "      <th>Mar-21</th>\n",
              "      <th>Apr-21</th>\n",
              "      <th>May-21</th>\n",
              "    </tr>\n",
              "  </thead>\n",
              "  <tbody>\n",
              "    <tr>\n",
              "      <th>0</th>\n",
              "      <td>Wh-1</td>\n",
              "      <td>NORTH</td>\n",
              "      <td>SKU-1</td>\n",
              "      <td>27</td>\n",
              "      <td>13</td>\n",
              "      <td>30</td>\n",
              "      <td>14</td>\n",
              "      <td>22</td>\n",
              "      <td>8</td>\n",
              "      <td>8</td>\n",
              "      <td>...</td>\n",
              "      <td>12</td>\n",
              "      <td>8</td>\n",
              "      <td>8</td>\n",
              "      <td>8</td>\n",
              "      <td>8</td>\n",
              "      <td>8</td>\n",
              "      <td>14</td>\n",
              "      <td>16</td>\n",
              "      <td>8</td>\n",
              "      <td>12</td>\n",
              "    </tr>\n",
              "    <tr>\n",
              "      <th>1</th>\n",
              "      <td>Wh-1</td>\n",
              "      <td>NORTH</td>\n",
              "      <td>SKU-2</td>\n",
              "      <td>88</td>\n",
              "      <td>28</td>\n",
              "      <td>127</td>\n",
              "      <td>130</td>\n",
              "      <td>58</td>\n",
              "      <td>10</td>\n",
              "      <td>7</td>\n",
              "      <td>...</td>\n",
              "      <td>16</td>\n",
              "      <td>7</td>\n",
              "      <td>7</td>\n",
              "      <td>7</td>\n",
              "      <td>7</td>\n",
              "      <td>7</td>\n",
              "      <td>13</td>\n",
              "      <td>43</td>\n",
              "      <td>13</td>\n",
              "      <td>43</td>\n",
              "    </tr>\n",
              "    <tr>\n",
              "      <th>2</th>\n",
              "      <td>Wh-1</td>\n",
              "      <td>NORTH</td>\n",
              "      <td>SKU-3</td>\n",
              "      <td>6</td>\n",
              "      <td>6</td>\n",
              "      <td>6</td>\n",
              "      <td>6</td>\n",
              "      <td>6</td>\n",
              "      <td>6</td>\n",
              "      <td>6</td>\n",
              "      <td>...</td>\n",
              "      <td>8</td>\n",
              "      <td>6</td>\n",
              "      <td>6</td>\n",
              "      <td>6</td>\n",
              "      <td>6</td>\n",
              "      <td>6</td>\n",
              "      <td>6</td>\n",
              "      <td>8</td>\n",
              "      <td>26</td>\n",
              "      <td>6</td>\n",
              "    </tr>\n",
              "    <tr>\n",
              "      <th>3</th>\n",
              "      <td>Wh-1</td>\n",
              "      <td>NORTH</td>\n",
              "      <td>SKU-4</td>\n",
              "      <td>162</td>\n",
              "      <td>184</td>\n",
              "      <td>110</td>\n",
              "      <td>172</td>\n",
              "      <td>90</td>\n",
              "      <td>40</td>\n",
              "      <td>18</td>\n",
              "      <td>...</td>\n",
              "      <td>82</td>\n",
              "      <td>78</td>\n",
              "      <td>38</td>\n",
              "      <td>18</td>\n",
              "      <td>22</td>\n",
              "      <td>28</td>\n",
              "      <td>36</td>\n",
              "      <td>352</td>\n",
              "      <td>58</td>\n",
              "      <td>18</td>\n",
              "    </tr>\n",
              "    <tr>\n",
              "      <th>4</th>\n",
              "      <td>Wh-1</td>\n",
              "      <td>NORTH</td>\n",
              "      <td>SKU-5</td>\n",
              "      <td>171</td>\n",
              "      <td>402</td>\n",
              "      <td>627</td>\n",
              "      <td>615</td>\n",
              "      <td>300</td>\n",
              "      <td>417</td>\n",
              "      <td>141</td>\n",
              "      <td>...</td>\n",
              "      <td>468</td>\n",
              "      <td>216</td>\n",
              "      <td>75</td>\n",
              "      <td>6</td>\n",
              "      <td>30</td>\n",
              "      <td>66</td>\n",
              "      <td>141</td>\n",
              "      <td>699</td>\n",
              "      <td>183</td>\n",
              "      <td>24</td>\n",
              "    </tr>\n",
              "  </tbody>\n",
              "</table>\n",
              "<p>5 rows × 41 columns</p>\n",
              "</div>\n",
              "      <button class=\"colab-df-convert\" onclick=\"convertToInteractive('df-2e0a4836-6ffb-4abd-b37b-1a0667043fed')\"\n",
              "              title=\"Convert this dataframe to an interactive table.\"\n",
              "              style=\"display:none;\">\n",
              "        \n",
              "  <svg xmlns=\"http://www.w3.org/2000/svg\" height=\"24px\"viewBox=\"0 0 24 24\"\n",
              "       width=\"24px\">\n",
              "    <path d=\"M0 0h24v24H0V0z\" fill=\"none\"/>\n",
              "    <path d=\"M18.56 5.44l.94 2.06.94-2.06 2.06-.94-2.06-.94-.94-2.06-.94 2.06-2.06.94zm-11 1L8.5 8.5l.94-2.06 2.06-.94-2.06-.94L8.5 2.5l-.94 2.06-2.06.94zm10 10l.94 2.06.94-2.06 2.06-.94-2.06-.94-.94-2.06-.94 2.06-2.06.94z\"/><path d=\"M17.41 7.96l-1.37-1.37c-.4-.4-.92-.59-1.43-.59-.52 0-1.04.2-1.43.59L10.3 9.45l-7.72 7.72c-.78.78-.78 2.05 0 2.83L4 21.41c.39.39.9.59 1.41.59.51 0 1.02-.2 1.41-.59l7.78-7.78 2.81-2.81c.8-.78.8-2.07 0-2.86zM5.41 20L4 18.59l7.72-7.72 1.47 1.35L5.41 20z\"/>\n",
              "  </svg>\n",
              "      </button>\n",
              "      \n",
              "  <style>\n",
              "    .colab-df-container {\n",
              "      display:flex;\n",
              "      flex-wrap:wrap;\n",
              "      gap: 12px;\n",
              "    }\n",
              "\n",
              "    .colab-df-convert {\n",
              "      background-color: #E8F0FE;\n",
              "      border: none;\n",
              "      border-radius: 50%;\n",
              "      cursor: pointer;\n",
              "      display: none;\n",
              "      fill: #1967D2;\n",
              "      height: 32px;\n",
              "      padding: 0 0 0 0;\n",
              "      width: 32px;\n",
              "    }\n",
              "\n",
              "    .colab-df-convert:hover {\n",
              "      background-color: #E2EBFA;\n",
              "      box-shadow: 0px 1px 2px rgba(60, 64, 67, 0.3), 0px 1px 3px 1px rgba(60, 64, 67, 0.15);\n",
              "      fill: #174EA6;\n",
              "    }\n",
              "\n",
              "    [theme=dark] .colab-df-convert {\n",
              "      background-color: #3B4455;\n",
              "      fill: #D2E3FC;\n",
              "    }\n",
              "\n",
              "    [theme=dark] .colab-df-convert:hover {\n",
              "      background-color: #434B5C;\n",
              "      box-shadow: 0px 1px 3px 1px rgba(0, 0, 0, 0.15);\n",
              "      filter: drop-shadow(0px 1px 2px rgba(0, 0, 0, 0.3));\n",
              "      fill: #FFFFFF;\n",
              "    }\n",
              "  </style>\n",
              "\n",
              "      <script>\n",
              "        const buttonEl =\n",
              "          document.querySelector('#df-2e0a4836-6ffb-4abd-b37b-1a0667043fed button.colab-df-convert');\n",
              "        buttonEl.style.display =\n",
              "          google.colab.kernel.accessAllowed ? 'block' : 'none';\n",
              "\n",
              "        async function convertToInteractive(key) {\n",
              "          const element = document.querySelector('#df-2e0a4836-6ffb-4abd-b37b-1a0667043fed');\n",
              "          const dataTable =\n",
              "            await google.colab.kernel.invokeFunction('convertToInteractive',\n",
              "                                                     [key], {});\n",
              "          if (!dataTable) return;\n",
              "\n",
              "          const docLinkHtml = 'Like what you see? Visit the ' +\n",
              "            '<a target=\"_blank\" href=https://colab.research.google.com/notebooks/data_table.ipynb>data table notebook</a>'\n",
              "            + ' to learn more about interactive tables.';\n",
              "          element.innerHTML = '';\n",
              "          dataTable['output_type'] = 'display_data';\n",
              "          await google.colab.output.renderOutput(dataTable, element);\n",
              "          const docLink = document.createElement('div');\n",
              "          docLink.innerHTML = docLinkHtml;\n",
              "          element.appendChild(docLink);\n",
              "        }\n",
              "      </script>\n",
              "    </div>\n",
              "  </div>\n",
              "  "
            ],
            "text/plain": [
              "  Warehouse id Region SKU id  Apr-18  May-18  Jun-18  Jul-18  Aug-18  Sep-18  \\\n",
              "0         Wh-1  NORTH  SKU-1      27      13      30      14      22       8   \n",
              "1         Wh-1  NORTH  SKU-2      88      28     127     130      58      10   \n",
              "2         Wh-1  NORTH  SKU-3       6       6       6       6       6       6   \n",
              "3         Wh-1  NORTH  SKU-4     162     184     110     172      90      40   \n",
              "4         Wh-1  NORTH  SKU-5     171     402     627     615     300     417   \n",
              "\n",
              "   Oct-18  ...  Aug-20  Sep-20  Oct-20  Nov-20  Dec-20  Jan-21  Feb-21  \\\n",
              "0       8  ...      12       8       8       8       8       8      14   \n",
              "1       7  ...      16       7       7       7       7       7      13   \n",
              "2       6  ...       8       6       6       6       6       6       6   \n",
              "3      18  ...      82      78      38      18      22      28      36   \n",
              "4     141  ...     468     216      75       6      30      66     141   \n",
              "\n",
              "   Mar-21  Apr-21  May-21  \n",
              "0      16       8      12  \n",
              "1      43      13      43  \n",
              "2       8      26       6  \n",
              "3     352      58      18  \n",
              "4     699     183      24  \n",
              "\n",
              "[5 rows x 41 columns]"
            ]
          },
          "metadata": {},
          "execution_count": 6
        }
      ],
      "source": [
        "df.head()"
      ]
    },
    {
      "cell_type": "code",
      "execution_count": null,
      "metadata": {
        "id": "7De2bzn1oDHA"
      },
      "outputs": [],
      "source": [
        "# df=df.drop(['May-21'],axis=1)"
      ]
    },
    {
      "cell_type": "code",
      "execution_count": null,
      "metadata": {
        "id": "9MtDc1m6GSLg"
      },
      "outputs": [],
      "source": [
        "HORIZON = 1 # predict 1 step at a time\n",
        "WINDOW_SIZE = 12"
      ]
    },
    {
      "cell_type": "code",
      "execution_count": null,
      "metadata": {
        "id": "TS6Zd6-ocPbO"
      },
      "outputs": [],
      "source": [
        "def mean_absolute_scaled_error(y_true, y_pred):\n",
        "  \"\"\"\n",
        "  Implement MASE (assuming no seasonality of data).\n",
        "  \"\"\"\n",
        "  mae = tf.reduce_mean(tf.abs(y_true - y_pred))\n",
        "\n",
        " \n",
        "  mae_naive_no_season = tf.reduce_mean(tf.abs(y_true[1:] - y_true[:-1])) \n",
        "\n",
        "  return mae / mae_naive_no_season"
      ]
    },
    {
      "cell_type": "code",
      "execution_count": null,
      "metadata": {
        "id": "2O1kfKWyaMmI"
      },
      "outputs": [],
      "source": [
        "def evaluate_preds(y_true, y_pred):\n",
        "  \n",
        "  y_true = tf.cast(y_true, dtype=tf.float32)\n",
        "  y_pred = tf.cast(y_pred, dtype=tf.float32)\n",
        "\n",
        "  \n",
        "  mae = tf.keras.metrics.mean_absolute_error(y_true, y_pred)\n",
        "  mse = tf.keras.metrics.mean_squared_error(y_true, y_pred) \n",
        "  rmse = tf.sqrt(mse)\n",
        "  mape = tf.keras.metrics.mean_absolute_percentage_error(y_true, y_pred)\n",
        "  mase = mean_absolute_scaled_error(y_true, y_pred)\n",
        "  \n",
        "  return {\"mae\": mae.numpy(),\n",
        "          \"mse\": mse.numpy(),\n",
        "          \"rmse\": rmse.numpy(),\n",
        "          \"mape\": mape.numpy(),\n",
        "          \"mase\": mase.numpy()}"
      ]
    },
    {
      "cell_type": "code",
      "execution_count": null,
      "metadata": {
        "id": "OspNviBKgCJi"
      },
      "outputs": [],
      "source": [
        "def get_labelled_windows(x, horizon=1):\n",
        "  \"\"\"\n",
        "  Creates labels for windowed dataset.\n",
        "\n",
        "  E.g. if horizon=1 (default)\n",
        "  Input: [1, 2, 3, 4, 5, 6] -> Output: ([1, 2, 3, 4, 5], [6])\n",
        "  \"\"\"\n",
        "  return x[:, :-horizon], x[:, -horizon:]"
      ]
    },
    {
      "cell_type": "code",
      "execution_count": null,
      "metadata": {
        "id": "sALqlOfcf_Jo"
      },
      "outputs": [],
      "source": [
        "def make_windows(x, window_size=12, horizon=1):\n",
        "  \"\"\"\n",
        "  Turns a 1D array into a 2D array of sequential windows of window_size.\n",
        "  \"\"\"\n",
        "\n",
        "  window_step = np.expand_dims(np.arange(window_size+horizon), axis=0)\n",
        " \n",
        "  window_indexes = window_step + np.expand_dims(np.arange(len(x)-(window_size+horizon-1)), axis=0).T \n",
        "\n",
        "  windowed_array = x[window_indexes]\n",
        "\n",
        " \n",
        "  windows, labels = get_labelled_windows(windowed_array, horizon=horizon)\n",
        "\n",
        "  return windows, labels"
      ]
    },
    {
      "cell_type": "code",
      "execution_count": null,
      "metadata": {
        "id": "0O3G4jdZhJoe"
      },
      "outputs": [],
      "source": [
        "df_east=df.loc[df['Region'] == \"EAST\"]\n",
        "df_west=df.loc[df['Region'] == \"WEST\"]\n",
        "df_north=df.loc[df['Region'] == \"NORTH\"]\n",
        "df_south=df.loc[df['Region'] == \"SOUTH\"]\n"
      ]
    },
    {
      "cell_type": "code",
      "execution_count": null,
      "metadata": {
        "id": "SCm3sT4eJdyz"
      },
      "outputs": [],
      "source": [
        "e=np.sum(np.sum(df_east.iloc[:,3:]))"
      ]
    },
    {
      "cell_type": "code",
      "execution_count": null,
      "metadata": {
        "id": "1WNz-zrcKESn"
      },
      "outputs": [],
      "source": [
        "w=np.sum(np.sum(df_west.iloc[:,3:]))"
      ]
    },
    {
      "cell_type": "code",
      "execution_count": null,
      "metadata": {
        "id": "PtG9ImJXKEeP"
      },
      "outputs": [],
      "source": [
        "n=np.sum(np.sum(df_north.iloc[:,3:]))"
      ]
    },
    {
      "cell_type": "code",
      "execution_count": null,
      "metadata": {
        "id": "wI3KbkitKEnJ"
      },
      "outputs": [],
      "source": [
        "s=np.sum(np.sum(df_south.iloc[:,3:]))"
      ]
    },
    {
      "cell_type": "code",
      "execution_count": null,
      "metadata": {
        "id": "Rk1k6B2mKNZG"
      },
      "outputs": [],
      "source": [
        "def normalize(x):\n",
        "    \"\"\"Compute softmax values for each sets of scores in x.\"\"\"\n",
        "    e_x = (x - np.max(x))\n",
        "    return e_x / e_x.sum()"
      ]
    },
    {
      "cell_type": "code",
      "execution_count": null,
      "metadata": {
        "id": "EPBQxLWbKXnb"
      },
      "outputs": [],
      "source": [
        "x=[n,s,e,w]\n",
        "x=normalize(x)"
      ]
    },
    {
      "cell_type": "code",
      "source": [
        "print(x)"
      ],
      "metadata": {
        "colab": {
          "base_uri": "https://localhost:8080/"
        },
        "id": "ikCxkRKdYhSt",
        "outputId": "83b589f5-7b73-4fd7-f1a7-f5b7e5412b41"
      },
      "execution_count": null,
      "outputs": [
        {
          "output_type": "stream",
          "name": "stdout",
          "text": [
            "[-0.          0.24397366  0.39819341  0.35783292]\n"
          ]
        }
      ]
    },
    {
      "cell_type": "code",
      "execution_count": null,
      "metadata": {
        "id": "fENiu9ahluaL"
      },
      "outputs": [],
      "source": [
        "df_north=df_north.drop(['Warehouse id','Region','SKU id'],axis=1)\n",
        "df_north=np.array(df_north,dtype=float)\n",
        "window=[]\n",
        "f_label=[]\n",
        "for i in df_north:\n",
        "     windows,label=make_windows(i)\n",
        "     for j in windows:\n",
        "        t=np.insert(j,0,x[0])\n",
        "        window.append(t)\n",
        "     for j in label:\n",
        "       f_label.append(j)  \n",
        "window1=np.array(window,dtype=float)\n",
        "f_label1=np.array(f_label)"
      ]
    },
    {
      "cell_type": "code",
      "execution_count": null,
      "metadata": {
        "id": "MmJBpx2BCA7g"
      },
      "outputs": [],
      "source": [
        "df_south=df_south.drop(['Warehouse id','Region','SKU id'],axis=1)\n",
        "df_south=np.array(df_south,dtype=float)\n",
        "window=[]\n",
        "f_label=[]\n",
        "for i in df_south:\n",
        "     windows,label=make_windows(i)\n",
        "     for j in windows:\n",
        "       t=np.insert(j,0,x[1])\n",
        "      \n",
        "       window.append(t)\n",
        "     for j in label:\n",
        "       f_label.append(j)  \n",
        "window4=np.array(window,dtype=float)\n",
        "f_label4=np.array(f_label)"
      ]
    },
    {
      "cell_type": "code",
      "execution_count": null,
      "metadata": {
        "id": "rLc5hojk7-t2"
      },
      "outputs": [],
      "source": [
        "df_east=df_east.drop(['Warehouse id','Region','SKU id'],axis=1)\n",
        "df_east=np.array(df_east,dtype=float)\n",
        "window=[]\n",
        "f_label=[]\n",
        "for i in df_east:\n",
        "     windows,label=make_windows(i)\n",
        "     for j in windows:\n",
        "       t=np.insert(j,0,x[2])\n",
        "       window.append(t)\n",
        "     for j in label:\n",
        "       f_label.append(j)  \n",
        "window2=np.array(window,dtype=float)\n",
        "f_label2=np.array(f_label)"
      ]
    },
    {
      "cell_type": "code",
      "execution_count": null,
      "metadata": {
        "id": "KRO1lP-hB0TD"
      },
      "outputs": [],
      "source": [
        "df_west=df_west.drop(['Warehouse id','Region','SKU id'],axis=1)\n",
        "df_west=np.array(df_west,dtype=float)\n",
        "window=[]\n",
        "f_label=[]\n",
        "for i in df_west:\n",
        "     windows,label=make_windows(i)\n",
        "     for j in windows:\n",
        "       t=np.insert(j,0,x[3])\n",
        "       window.append(t)\n",
        "     for j in label:\n",
        "       f_label.append(j)  \n",
        "window3=np.array(window,dtype=float)\n",
        "f_label3=np.array(f_label)"
      ]
    },
    {
      "cell_type": "code",
      "execution_count": null,
      "metadata": {
        "id": "co-H2DaICwo3"
      },
      "outputs": [],
      "source": [
        "x=[]\n",
        "y=[]\n",
        "for i in window2:\n",
        "  x.append(i)\n",
        "for i in f_label2:\n",
        "  y.append(i)\n",
        "for i in window1:\n",
        "  x.append(i)\n",
        "for i in f_label1:\n",
        "  y.append(i)\n",
        "\n",
        "for i in window3:\n",
        "  x.append(i)\n",
        "for i in f_label3:\n",
        "  y.append(i)\n",
        "for i in window4:\n",
        "  x.append(i)\n",
        "for i in f_label4:\n",
        "  y.append(i)\n"
      ]
    },
    {
      "cell_type": "code",
      "execution_count": null,
      "metadata": {
        "id": "cQOGZMlCEHGW"
      },
      "outputs": [],
      "source": [
        "split_size = int(len(x))\n",
        "X_train, y_train = x[:], y[:]\n"
      ]
    },
    {
      "cell_type": "code",
      "execution_count": null,
      "metadata": {
        "id": "pSYGO_6GEZ4h"
      },
      "outputs": [],
      "source": [
        "X_train=np.array(X_train)\n",
        "\n",
        "y_train=np.array(y_train)\n",
        "\n"
      ]
    },
    {
      "cell_type": "code",
      "execution_count": null,
      "metadata": {
        "id": "xkKYLMnwEMBk"
      },
      "outputs": [],
      "source": [
        "# Create NBeatsBlock custom layer \n",
        "class NBeatsBlock(tf.keras.layers.Layer):\n",
        "  def __init__(self, # the constructor takes all the hyperparameters for the layer\n",
        "               input_size: int,\n",
        "               theta_size: int,\n",
        "               horizon: int,\n",
        "               n_neurons: int,\n",
        "               n_layers: int,\n",
        "               **kwargs): # the **kwargs argument takes care of all of the arguments for the parent class (input_shape, trainable, name)\n",
        "    super().__init__(**kwargs)\n",
        "    self.input_size = input_size\n",
        "    self.theta_size = theta_size\n",
        "    self.horizon = horizon\n",
        "    self.n_neurons = n_neurons\n",
        "    self.n_layers = n_layers\n",
        "\n",
        "    # Block contains stack of 4 fully connected layers each has ReLU activation\n",
        "    self.hidden = [tf.keras.layers.Dense(n_neurons, activation=\"relu\") for _ in range(n_layers)]\n",
        "    # Output of block is a theta layer with linear activation\n",
        "    self.theta_layer = tf.keras.layers.Dense(theta_size, activation=\"linear\", name=\"theta\")\n",
        "\n",
        "  def call(self, inputs): # the call method is what runs when the layer is called \n",
        "    x = inputs \n",
        "    for layer in self.hidden: # pass inputs through each hidden layer \n",
        "      x = layer(x)\n",
        "    theta = self.theta_layer(x) \n",
        "    # Output the backcast and forecast from theta\n",
        "    backcast, forecast = theta[:, :self.input_size], theta[:, -self.horizon:]\n",
        "    return backcast, forecast"
      ]
    },
    {
      "cell_type": "code",
      "execution_count": null,
      "metadata": {
        "colab": {
          "base_uri": "https://localhost:8080/"
        },
        "id": "awkgMYUPFR0Z",
        "outputId": "2e8d2c00-c2f7-42c2-d4f8-2cb87cfcd60e"
      },
      "outputs": [
        {
          "output_type": "execute_result",
          "data": {
            "text/plain": [
              "<PrefetchDataset element_spec=(TensorSpec(shape=(None, 13), dtype=tf.float64, name=None), TensorSpec(shape=(None, 1), dtype=tf.float64, name=None))>"
            ]
          },
          "metadata": {},
          "execution_count": 29
        }
      ],
      "source": [
        "# 1. Turn train and test arrays into tensor Datasets\n",
        "train_features_dataset = tf.data.Dataset.from_tensor_slices(X_train)\n",
        "train_labels_dataset = tf.data.Dataset.from_tensor_slices(y_train)\n",
        "\n",
        "\n",
        "\n",
        "# 2. Combine features & labels\n",
        "train_dataset = tf.data.Dataset.zip((train_features_dataset, train_labels_dataset))\n",
        "\n",
        "\n",
        "# 3. Batch and prefetch for optimal performance\n",
        "BATCH_SIZE = 1024 # taken from Appendix D in N-BEATS paper\n",
        "train_dataset = train_dataset.batch(BATCH_SIZE).prefetch(tf.data.AUTOTUNE)\n",
        "\n",
        "\n",
        "train_dataset"
      ]
    },
    {
      "cell_type": "code",
      "execution_count": null,
      "metadata": {
        "colab": {
          "base_uri": "https://localhost:8080/"
        },
        "id": "UzkgIvdAFSs7",
        "outputId": "a634b11c-79d1-4e43-b5bc-4585cf627d29"
      },
      "outputs": [
        {
          "output_type": "execute_result",
          "data": {
            "text/plain": [
              "(13, 14)"
            ]
          },
          "metadata": {},
          "execution_count": 30
        }
      ],
      "source": [
        "# Values from N-BEATS paper Figure 1 and Table 18/Appendix D\n",
        "N_EPOCHS = 250 # called \"Iterations\" in Table 18\n",
        "N_NEURONS = 512 # called \"Width\" in Table 18\n",
        "N_LAYERS = 4\n",
        "N_STACKS = 30\n",
        "\n",
        "\n",
        "INPUT_SIZE = 13 * HORIZON # called \"Lookback\" in Table 18\n",
        "THETA_SIZE = INPUT_SIZE + HORIZON\n",
        "\n",
        "INPUT_SIZE, THETA_SIZE"
      ]
    },
    {
      "cell_type": "code",
      "execution_count": null,
      "metadata": {
        "id": "PDn8jq5Hr7zd"
      },
      "outputs": [],
      "source": [
        "def scheduler(epoch, lr):\n",
        "  if epoch <150:\n",
        "    return lr\n",
        "  elif epoch<200:\n",
        "    return 0.0001\n",
        "  else :\n",
        "    return 0.00001\n",
        "callback = tf.keras.callbacks.LearningRateScheduler(scheduler)"
      ]
    },
    {
      "cell_type": "code",
      "execution_count": null,
      "metadata": {
        "colab": {
          "base_uri": "https://localhost:8080/"
        },
        "id": "1P8qfX0MFYKZ",
        "outputId": "6905eb61-3754-4a2a-b668-d9d796b8ca17"
      },
      "outputs": [
        {
          "output_type": "stream",
          "name": "stdout",
          "text": [
            "Epoch 1/250\n",
            "27/27 [==============================] - 27s 173ms/step - loss: 727.7286 - mape: 1555.1121 - mae: 727.7286 - mse: 21938692.0000 - lr: 0.0010\n",
            "Epoch 2/250\n",
            "27/27 [==============================] - 4s 149ms/step - loss: 120.9049 - mape: 279.1394 - mae: 120.9049 - mse: 259198.0781 - lr: 0.0010\n",
            "Epoch 3/250\n",
            "27/27 [==============================] - 4s 143ms/step - loss: 138.3206 - mape: 316.8630 - mae: 138.3206 - mse: 275132.4062 - lr: 0.0010\n",
            "Epoch 4/250\n",
            "27/27 [==============================] - 4s 143ms/step - loss: 126.8197 - mape: 295.3834 - mae: 126.8197 - mse: 286540.8125 - lr: 0.0010\n",
            "Epoch 5/250\n",
            "27/27 [==============================] - 4s 149ms/step - loss: 116.9590 - mape: 271.7445 - mae: 116.9590 - mse: 224737.9219 - lr: 0.0010\n",
            "Epoch 6/250\n",
            "27/27 [==============================] - 4s 150ms/step - loss: 112.2298 - mape: 268.4404 - mae: 112.2298 - mse: 190349.8281 - lr: 0.0010\n",
            "Epoch 7/250\n",
            "27/27 [==============================] - 4s 150ms/step - loss: 109.7589 - mape: 263.7377 - mae: 109.7589 - mse: 177427.3125 - lr: 0.0010\n",
            "Epoch 8/250\n",
            "27/27 [==============================] - 4s 150ms/step - loss: 109.0918 - mape: 261.1456 - mae: 109.0918 - mse: 173822.5625 - lr: 0.0010\n",
            "Epoch 9/250\n",
            "27/27 [==============================] - 4s 151ms/step - loss: 107.1824 - mape: 251.7254 - mae: 107.1824 - mse: 164778.6719 - lr: 0.0010\n",
            "Epoch 10/250\n",
            "27/27 [==============================] - 4s 150ms/step - loss: 105.0013 - mape: 248.2216 - mae: 105.0013 - mse: 154442.0938 - lr: 0.0010\n",
            "Epoch 11/250\n",
            "27/27 [==============================] - 4s 150ms/step - loss: 104.6389 - mape: 242.6198 - mae: 104.6389 - mse: 154251.5156 - lr: 0.0010\n",
            "Epoch 12/250\n",
            "27/27 [==============================] - 4s 143ms/step - loss: 107.4688 - mape: 247.9776 - mae: 107.4688 - mse: 170755.1875 - lr: 0.0010\n",
            "Epoch 13/250\n",
            "27/27 [==============================] - 4s 150ms/step - loss: 102.8791 - mape: 234.1868 - mae: 102.8791 - mse: 152605.3438 - lr: 0.0010\n",
            "Epoch 14/250\n",
            "27/27 [==============================] - 4s 143ms/step - loss: 106.3608 - mape: 237.6995 - mae: 106.3608 - mse: 153464.6406 - lr: 0.0010\n",
            "Epoch 15/250\n",
            "27/27 [==============================] - 4s 143ms/step - loss: 109.2879 - mape: 251.0923 - mae: 109.2879 - mse: 182992.3281 - lr: 0.0010\n",
            "Epoch 16/250\n",
            "27/27 [==============================] - 4s 144ms/step - loss: 108.6613 - mape: 256.0874 - mae: 108.6613 - mse: 183235.2031 - lr: 0.0010\n",
            "Epoch 17/250\n",
            "27/27 [==============================] - 4s 146ms/step - loss: 105.7460 - mape: 248.8086 - mae: 105.7460 - mse: 153222.5312 - lr: 0.0010\n",
            "Epoch 18/250\n",
            "27/27 [==============================] - 4s 144ms/step - loss: 103.5741 - mape: 239.7702 - mae: 103.5741 - mse: 155112.8281 - lr: 0.0010\n",
            "Epoch 19/250\n",
            "27/27 [==============================] - 4s 150ms/step - loss: 101.8152 - mape: 233.8389 - mae: 101.8152 - mse: 139049.0625 - lr: 0.0010\n",
            "Epoch 20/250\n",
            "27/27 [==============================] - 4s 150ms/step - loss: 101.2302 - mape: 226.6943 - mae: 101.2302 - mse: 143434.5312 - lr: 0.0010\n",
            "Epoch 21/250\n",
            "27/27 [==============================] - 4s 144ms/step - loss: 106.6085 - mape: 245.0879 - mae: 106.6085 - mse: 165895.9375 - lr: 0.0010\n",
            "Epoch 22/250\n",
            "27/27 [==============================] - 4s 151ms/step - loss: 100.5042 - mape: 222.4612 - mae: 100.5042 - mse: 151584.6875 - lr: 0.0010\n",
            "Epoch 23/250\n",
            "27/27 [==============================] - 4s 144ms/step - loss: 102.5418 - mape: 238.1426 - mae: 102.5418 - mse: 139170.9844 - lr: 0.0010\n",
            "Epoch 24/250\n",
            "27/27 [==============================] - 4s 150ms/step - loss: 99.2793 - mape: 222.9211 - mae: 99.2793 - mse: 141670.0312 - lr: 0.0010\n",
            "Epoch 25/250\n",
            "27/27 [==============================] - 4s 148ms/step - loss: 99.5731 - mape: 227.9964 - mae: 99.5731 - mse: 143149.4844 - lr: 0.0010\n",
            "Epoch 26/250\n",
            "27/27 [==============================] - 4s 152ms/step - loss: 96.0809 - mape: 220.4781 - mae: 96.0809 - mse: 127274.6953 - lr: 0.0010\n",
            "Epoch 27/250\n",
            "27/27 [==============================] - 4s 144ms/step - loss: 98.0222 - mape: 227.5042 - mae: 98.0222 - mse: 125513.2422 - lr: 0.0010\n",
            "Epoch 28/250\n",
            "27/27 [==============================] - 4s 151ms/step - loss: 95.7248 - mape: 213.3750 - mae: 95.7248 - mse: 132566.7969 - lr: 0.0010\n",
            "Epoch 29/250\n",
            "27/27 [==============================] - 4s 150ms/step - loss: 94.0352 - mape: 208.4151 - mae: 94.0352 - mse: 122002.0781 - lr: 0.0010\n",
            "Epoch 30/250\n",
            "27/27 [==============================] - 4s 151ms/step - loss: 90.7592 - mape: 203.8633 - mae: 90.7592 - mse: 106399.1328 - lr: 0.0010\n",
            "Epoch 31/250\n",
            "27/27 [==============================] - 4s 144ms/step - loss: 91.0307 - mape: 216.6023 - mae: 91.0307 - mse: 106433.8984 - lr: 0.0010\n",
            "Epoch 32/250\n",
            "27/27 [==============================] - 4s 151ms/step - loss: 88.5645 - mape: 202.1055 - mae: 88.5645 - mse: 98128.0078 - lr: 0.0010\n",
            "Epoch 33/250\n",
            "27/27 [==============================] - 4s 145ms/step - loss: 91.2426 - mape: 207.0348 - mae: 91.2426 - mse: 115212.2500 - lr: 0.0010\n",
            "Epoch 34/250\n",
            "27/27 [==============================] - 4s 144ms/step - loss: 91.8275 - mape: 209.0552 - mae: 91.8275 - mse: 115266.8984 - lr: 0.0010\n",
            "Epoch 35/250\n",
            "27/27 [==============================] - 4s 144ms/step - loss: 95.9765 - mape: 220.6877 - mae: 95.9765 - mse: 117889.6875 - lr: 0.0010\n",
            "Epoch 36/250\n",
            "27/27 [==============================] - 4s 144ms/step - loss: 90.8030 - mape: 202.7394 - mae: 90.8030 - mse: 109391.2969 - lr: 0.0010\n",
            "Epoch 37/250\n",
            "27/27 [==============================] - 4s 151ms/step - loss: 88.1700 - mape: 191.4241 - mae: 88.1700 - mse: 103004.8906 - lr: 0.0010\n",
            "Epoch 38/250\n",
            "27/27 [==============================] - 4s 145ms/step - loss: 89.3928 - mape: 200.8496 - mae: 89.3928 - mse: 115612.7891 - lr: 0.0010\n",
            "Epoch 39/250\n",
            "27/27 [==============================] - 4s 144ms/step - loss: 88.7877 - mape: 194.6793 - mae: 88.7877 - mse: 111015.0156 - lr: 0.0010\n",
            "Epoch 40/250\n",
            "27/27 [==============================] - 4s 150ms/step - loss: 86.9227 - mape: 197.9646 - mae: 86.9227 - mse: 91922.0156 - lr: 0.0010\n",
            "Epoch 41/250\n",
            "27/27 [==============================] - 4s 146ms/step - loss: 88.2829 - mape: 200.7287 - mae: 88.2829 - mse: 109740.1641 - lr: 0.0010\n",
            "Epoch 42/250\n",
            "27/27 [==============================] - 4s 150ms/step - loss: 85.9194 - mape: 192.5948 - mae: 85.9194 - mse: 89934.6719 - lr: 0.0010\n",
            "Epoch 43/250\n",
            "27/27 [==============================] - 4s 143ms/step - loss: 87.1513 - mape: 196.8870 - mae: 87.1513 - mse: 105896.4688 - lr: 0.0010\n",
            "Epoch 44/250\n",
            "27/27 [==============================] - 4s 143ms/step - loss: 88.7514 - mape: 205.5255 - mae: 88.7514 - mse: 102320.4609 - lr: 0.0010\n",
            "Epoch 45/250\n",
            "27/27 [==============================] - 4s 152ms/step - loss: 85.7500 - mape: 190.2904 - mae: 85.7500 - mse: 85300.1094 - lr: 0.0010\n",
            "Epoch 46/250\n",
            "27/27 [==============================] - 4s 143ms/step - loss: 87.1731 - mape: 194.0552 - mae: 87.1731 - mse: 99159.0156 - lr: 0.0010\n",
            "Epoch 47/250\n",
            "27/27 [==============================] - 4s 144ms/step - loss: 86.5387 - mape: 186.0932 - mae: 86.5387 - mse: 102482.4141 - lr: 0.0010\n",
            "Epoch 48/250\n",
            "27/27 [==============================] - 4s 149ms/step - loss: 85.2183 - mape: 202.7644 - mae: 85.2183 - mse: 89569.9297 - lr: 0.0010\n",
            "Epoch 49/250\n",
            "27/27 [==============================] - 4s 147ms/step - loss: 88.5826 - mape: 196.7337 - mae: 88.5826 - mse: 87265.9297 - lr: 0.0010\n",
            "Epoch 50/250\n",
            "27/27 [==============================] - 4s 143ms/step - loss: 87.1766 - mape: 202.6865 - mae: 87.1766 - mse: 103012.2422 - lr: 0.0010\n",
            "Epoch 51/250\n",
            "27/27 [==============================] - 4s 150ms/step - loss: 81.4476 - mape: 186.8626 - mae: 81.4476 - mse: 68291.8672 - lr: 0.0010\n",
            "Epoch 52/250\n",
            "27/27 [==============================] - 4s 145ms/step - loss: 83.1431 - mape: 184.4248 - mae: 83.1431 - mse: 91447.2422 - lr: 0.0010\n",
            "Epoch 53/250\n",
            "27/27 [==============================] - 4s 144ms/step - loss: 83.3442 - mape: 191.2937 - mae: 83.3442 - mse: 92741.0000 - lr: 0.0010\n",
            "Epoch 54/250\n",
            "27/27 [==============================] - 4s 144ms/step - loss: 82.8606 - mape: 193.8015 - mae: 82.8606 - mse: 79539.5625 - lr: 0.0010\n",
            "Epoch 55/250\n",
            "27/27 [==============================] - 4s 144ms/step - loss: 84.4244 - mape: 188.9970 - mae: 84.4244 - mse: 82280.2578 - lr: 0.0010\n",
            "Epoch 56/250\n",
            "27/27 [==============================] - 4s 144ms/step - loss: 87.9202 - mape: 207.2955 - mae: 87.9202 - mse: 92386.8984 - lr: 0.0010\n",
            "Epoch 57/250\n",
            "27/27 [==============================] - 4s 144ms/step - loss: 84.6195 - mape: 201.9944 - mae: 84.6195 - mse: 82198.0547 - lr: 0.0010\n",
            "Epoch 58/250\n",
            "27/27 [==============================] - 4s 151ms/step - loss: 80.9794 - mape: 178.3697 - mae: 80.9794 - mse: 73443.3203 - lr: 0.0010\n",
            "Epoch 59/250\n",
            "27/27 [==============================] - 4s 144ms/step - loss: 83.1702 - mape: 186.1116 - mae: 83.1702 - mse: 94101.7734 - lr: 0.0010\n",
            "Epoch 60/250\n",
            "27/27 [==============================] - 4s 152ms/step - loss: 79.1662 - mape: 171.3303 - mae: 79.1662 - mse: 80674.7891 - lr: 0.0010\n",
            "Epoch 61/250\n",
            "27/27 [==============================] - 4s 151ms/step - loss: 79.0335 - mape: 183.7423 - mae: 79.0335 - mse: 80702.7344 - lr: 0.0010\n",
            "Epoch 62/250\n",
            "27/27 [==============================] - 4s 152ms/step - loss: 78.3837 - mape: 170.3950 - mae: 78.3837 - mse: 84628.9141 - lr: 0.0010\n",
            "Epoch 63/250\n",
            "27/27 [==============================] - 4s 145ms/step - loss: 78.4573 - mape: 181.0711 - mae: 78.4573 - mse: 88660.7969 - lr: 0.0010\n",
            "Epoch 64/250\n",
            "27/27 [==============================] - 4s 151ms/step - loss: 76.8688 - mape: 168.1694 - mae: 76.8688 - mse: 62452.0117 - lr: 0.0010\n",
            "Epoch 65/250\n",
            "27/27 [==============================] - 4s 151ms/step - loss: 75.3721 - mape: 174.2624 - mae: 75.3721 - mse: 54899.8359 - lr: 0.0010\n",
            "Epoch 66/250\n",
            "27/27 [==============================] - 4s 144ms/step - loss: 79.7416 - mape: 182.7956 - mae: 79.7416 - mse: 73193.3516 - lr: 0.0010\n",
            "Epoch 67/250\n",
            "27/27 [==============================] - 4s 145ms/step - loss: 82.1654 - mape: 181.0609 - mae: 82.1654 - mse: 83572.5234 - lr: 0.0010\n",
            "Epoch 68/250\n",
            "27/27 [==============================] - 4s 145ms/step - loss: 79.1976 - mape: 197.5648 - mae: 79.1976 - mse: 79719.4453 - lr: 0.0010\n",
            "Epoch 69/250\n",
            "27/27 [==============================] - 4s 145ms/step - loss: 78.3915 - mape: 179.4978 - mae: 78.3915 - mse: 89437.3047 - lr: 0.0010\n",
            "Epoch 70/250\n",
            "27/27 [==============================] - 4s 145ms/step - loss: 77.3410 - mape: 177.8152 - mae: 77.3410 - mse: 82154.5156 - lr: 0.0010\n",
            "Epoch 71/250\n",
            "27/27 [==============================] - 4s 144ms/step - loss: 75.6061 - mape: 171.9207 - mae: 75.6061 - mse: 73894.7734 - lr: 0.0010\n",
            "Epoch 72/250\n",
            "27/27 [==============================] - 4s 146ms/step - loss: 75.6114 - mape: 179.0459 - mae: 75.6114 - mse: 68717.9688 - lr: 0.0010\n",
            "Epoch 73/250\n",
            "27/27 [==============================] - 4s 151ms/step - loss: 75.2207 - mape: 171.4533 - mae: 75.2207 - mse: 76155.4219 - lr: 0.0010\n",
            "Epoch 74/250\n",
            "27/27 [==============================] - 4s 145ms/step - loss: 76.2646 - mape: 175.0537 - mae: 76.2646 - mse: 76183.0625 - lr: 0.0010\n",
            "Epoch 75/250\n",
            "27/27 [==============================] - 4s 151ms/step - loss: 74.5209 - mape: 165.6002 - mae: 74.5209 - mse: 67925.0000 - lr: 0.0010\n",
            "Epoch 76/250\n",
            "27/27 [==============================] - 4s 152ms/step - loss: 72.3866 - mape: 160.3912 - mae: 72.3866 - mse: 70263.4141 - lr: 0.0010\n",
            "Epoch 77/250\n",
            "27/27 [==============================] - 4s 153ms/step - loss: 72.2100 - mape: 163.6625 - mae: 72.2100 - mse: 73608.3203 - lr: 0.0010\n",
            "Epoch 78/250\n",
            "27/27 [==============================] - 4s 151ms/step - loss: 71.5434 - mape: 160.7679 - mae: 71.5434 - mse: 64853.6719 - lr: 0.0010\n",
            "Epoch 79/250\n",
            "27/27 [==============================] - 4s 152ms/step - loss: 70.3986 - mape: 160.1132 - mae: 70.3986 - mse: 56750.3516 - lr: 0.0010\n",
            "Epoch 80/250\n",
            "27/27 [==============================] - 4s 153ms/step - loss: 69.8408 - mape: 156.9631 - mae: 69.8408 - mse: 71854.9609 - lr: 0.0010\n",
            "Epoch 81/250\n",
            "27/27 [==============================] - 4s 152ms/step - loss: 69.2678 - mape: 159.0207 - mae: 69.2678 - mse: 54229.1289 - lr: 0.0010\n",
            "Epoch 82/250\n",
            "27/27 [==============================] - 4s 144ms/step - loss: 71.6722 - mape: 162.7918 - mae: 71.6722 - mse: 62500.4453 - lr: 0.0010\n",
            "Epoch 83/250\n",
            "27/27 [==============================] - 4s 145ms/step - loss: 71.8431 - mape: 157.0649 - mae: 71.8431 - mse: 70746.7656 - lr: 0.0010\n",
            "Epoch 84/250\n",
            "27/27 [==============================] - 4s 152ms/step - loss: 67.8795 - mape: 155.8329 - mae: 67.8795 - mse: 60266.7188 - lr: 0.0010\n",
            "Epoch 85/250\n",
            "27/27 [==============================] - 4s 145ms/step - loss: 70.6265 - mape: 165.9511 - mae: 70.6265 - mse: 54779.1289 - lr: 0.0010\n",
            "Epoch 86/250\n",
            "27/27 [==============================] - 4s 146ms/step - loss: 68.0936 - mape: 157.7032 - mae: 68.0936 - mse: 47913.9844 - lr: 0.0010\n",
            "Epoch 87/250\n",
            "27/27 [==============================] - 4s 145ms/step - loss: 71.0808 - mape: 149.6258 - mae: 71.0808 - mse: 55956.2461 - lr: 0.0010\n",
            "Epoch 88/250\n",
            "27/27 [==============================] - 4s 145ms/step - loss: 74.9037 - mape: 165.5764 - mae: 74.9037 - mse: 58721.7773 - lr: 0.0010\n",
            "Epoch 89/250\n",
            "27/27 [==============================] - 4s 146ms/step - loss: 75.0159 - mape: 175.0221 - mae: 75.0159 - mse: 74110.6250 - lr: 0.0010\n",
            "Epoch 90/250\n",
            "27/27 [==============================] - 4s 144ms/step - loss: 69.9335 - mape: 162.6326 - mae: 69.9335 - mse: 54187.3047 - lr: 0.0010\n",
            "Epoch 91/250\n",
            "27/27 [==============================] - 4s 152ms/step - loss: 67.5246 - mape: 156.4972 - mae: 67.5246 - mse: 55342.2344 - lr: 0.0010\n",
            "Epoch 92/250\n",
            "27/27 [==============================] - 4s 152ms/step - loss: 66.0424 - mape: 154.4840 - mae: 66.0424 - mse: 48765.6133 - lr: 0.0010\n",
            "Epoch 93/250\n",
            "27/27 [==============================] - 4s 151ms/step - loss: 65.9170 - mape: 155.3529 - mae: 65.9170 - mse: 47408.9336 - lr: 0.0010\n",
            "Epoch 94/250\n",
            "27/27 [==============================] - 4s 143ms/step - loss: 69.4565 - mape: 152.5371 - mae: 69.4565 - mse: 76731.9375 - lr: 0.0010\n",
            "Epoch 95/250\n",
            "27/27 [==============================] - 4s 144ms/step - loss: 66.6725 - mape: 165.7069 - mae: 66.6725 - mse: 63349.4922 - lr: 0.0010\n",
            "Epoch 96/250\n",
            "27/27 [==============================] - 4s 150ms/step - loss: 65.5389 - mape: 151.2480 - mae: 65.5389 - mse: 56962.2852 - lr: 0.0010\n",
            "Epoch 97/250\n",
            "27/27 [==============================] - 4s 151ms/step - loss: 65.1619 - mape: 152.6862 - mae: 65.1619 - mse: 51720.3711 - lr: 0.0010\n",
            "Epoch 98/250\n",
            "27/27 [==============================] - 4s 151ms/step - loss: 63.9085 - mape: 146.7715 - mae: 63.9085 - mse: 46583.5742 - lr: 0.0010\n",
            "Epoch 99/250\n",
            "27/27 [==============================] - 4s 144ms/step - loss: 68.4074 - mape: 140.8252 - mae: 68.4074 - mse: 48719.2812 - lr: 0.0010\n",
            "Epoch 100/250\n",
            "27/27 [==============================] - 4s 144ms/step - loss: 67.7477 - mape: 156.3915 - mae: 67.7477 - mse: 60741.0898 - lr: 0.0010\n",
            "Epoch 101/250\n",
            "27/27 [==============================] - 4s 145ms/step - loss: 66.4089 - mape: 155.0116 - mae: 66.4089 - mse: 69887.4531 - lr: 0.0010\n",
            "Epoch 102/250\n",
            "27/27 [==============================] - 4s 144ms/step - loss: 65.7552 - mape: 146.0176 - mae: 65.7552 - mse: 47083.2188 - lr: 0.0010\n",
            "Epoch 103/250\n",
            "27/27 [==============================] - 4s 143ms/step - loss: 65.7559 - mape: 140.2415 - mae: 65.7559 - mse: 45380.2852 - lr: 0.0010\n",
            "Epoch 104/250\n",
            "27/27 [==============================] - 4s 143ms/step - loss: 68.1713 - mape: 149.9424 - mae: 68.1713 - mse: 53594.4062 - lr: 0.0010\n",
            "Epoch 105/250\n",
            "27/27 [==============================] - 4s 144ms/step - loss: 65.4010 - mape: 152.1843 - mae: 65.4010 - mse: 62867.6602 - lr: 0.0010\n",
            "Epoch 106/250\n",
            "27/27 [==============================] - 4s 144ms/step - loss: 66.6778 - mape: 150.7830 - mae: 66.6778 - mse: 62187.2891 - lr: 0.0010\n",
            "Epoch 107/250\n",
            "27/27 [==============================] - 4s 144ms/step - loss: 65.0467 - mape: 140.5591 - mae: 65.0467 - mse: 67620.3047 - lr: 0.0010\n",
            "Epoch 108/250\n",
            "27/27 [==============================] - 4s 144ms/step - loss: 65.0992 - mape: 145.8113 - mae: 65.0992 - mse: 69741.2109 - lr: 0.0010\n",
            "Epoch 109/250\n",
            "27/27 [==============================] - 4s 150ms/step - loss: 61.3883 - mape: 141.1145 - mae: 61.3883 - mse: 43429.7344 - lr: 0.0010\n",
            "Epoch 110/250\n",
            "27/27 [==============================] - 4s 144ms/step - loss: 61.8187 - mape: 141.0361 - mae: 61.8187 - mse: 40857.4648 - lr: 0.0010\n",
            "Epoch 111/250\n",
            "27/27 [==============================] - 4s 150ms/step - loss: 61.1891 - mape: 133.8872 - mae: 61.1891 - mse: 50614.2344 - lr: 0.0010\n",
            "Epoch 112/250\n",
            "27/27 [==============================] - 4s 144ms/step - loss: 62.3414 - mape: 136.8931 - mae: 62.3414 - mse: 49400.8867 - lr: 0.0010\n",
            "Epoch 113/250\n",
            "27/27 [==============================] - 4s 144ms/step - loss: 61.9218 - mape: 149.6280 - mae: 61.9218 - mse: 42109.4414 - lr: 0.0010\n",
            "Epoch 114/250\n",
            "27/27 [==============================] - 4s 151ms/step - loss: 59.6174 - mape: 132.9120 - mae: 59.6174 - mse: 42500.3242 - lr: 0.0010\n",
            "Epoch 115/250\n",
            "27/27 [==============================] - 4s 144ms/step - loss: 60.2403 - mape: 134.2192 - mae: 60.2403 - mse: 52909.3672 - lr: 0.0010\n",
            "Epoch 116/250\n",
            "27/27 [==============================] - 4s 150ms/step - loss: 58.7302 - mape: 129.8747 - mae: 58.7302 - mse: 57057.1641 - lr: 0.0010\n",
            "Epoch 117/250\n",
            "27/27 [==============================] - 4s 150ms/step - loss: 57.9430 - mape: 127.3972 - mae: 57.9430 - mse: 49705.9492 - lr: 0.0010\n",
            "Epoch 118/250\n",
            "27/27 [==============================] - 4s 149ms/step - loss: 56.0420 - mape: 131.8634 - mae: 56.0420 - mse: 46654.6602 - lr: 0.0010\n",
            "Epoch 119/250\n",
            "27/27 [==============================] - 4s 150ms/step - loss: 55.8986 - mape: 128.1158 - mae: 55.8986 - mse: 44512.3867 - lr: 0.0010\n",
            "Epoch 120/250\n",
            "27/27 [==============================] - 4s 145ms/step - loss: 56.6577 - mape: 125.6195 - mae: 56.6577 - mse: 45666.9883 - lr: 0.0010\n",
            "Epoch 121/250\n",
            "27/27 [==============================] - 4s 145ms/step - loss: 58.3128 - mape: 133.7569 - mae: 58.3128 - mse: 42912.1406 - lr: 0.0010\n",
            "Epoch 122/250\n",
            "27/27 [==============================] - 4s 143ms/step - loss: 56.5570 - mape: 132.0427 - mae: 56.5570 - mse: 43374.3008 - lr: 0.0010\n",
            "Epoch 123/250\n",
            "27/27 [==============================] - 4s 143ms/step - loss: 57.6221 - mape: 127.7706 - mae: 57.6221 - mse: 44745.5742 - lr: 0.0010\n",
            "Epoch 124/250\n",
            "27/27 [==============================] - 4s 144ms/step - loss: 59.3149 - mape: 120.3297 - mae: 59.3149 - mse: 48699.1680 - lr: 0.0010\n",
            "Epoch 125/250\n",
            "27/27 [==============================] - 4s 145ms/step - loss: 56.3638 - mape: 133.2747 - mae: 56.3638 - mse: 35964.5430 - lr: 0.0010\n",
            "Epoch 126/250\n",
            "27/27 [==============================] - 4s 145ms/step - loss: 58.1322 - mape: 129.6245 - mae: 58.1322 - mse: 50707.3828 - lr: 0.0010\n",
            "Epoch 127/250\n",
            "27/27 [==============================] - 4s 145ms/step - loss: 57.6215 - mape: 126.6480 - mae: 57.6215 - mse: 53275.3164 - lr: 0.0010\n",
            "Epoch 128/250\n",
            "27/27 [==============================] - 4s 145ms/step - loss: 58.0956 - mape: 124.1379 - mae: 58.0956 - mse: 49731.0508 - lr: 0.0010\n",
            "Epoch 129/250\n",
            "27/27 [==============================] - 4s 145ms/step - loss: 59.0400 - mape: 129.7897 - mae: 59.0400 - mse: 46047.4844 - lr: 0.0010\n",
            "Epoch 130/250\n",
            "27/27 [==============================] - 4s 144ms/step - loss: 56.3555 - mape: 130.5059 - mae: 56.3555 - mse: 41229.7734 - lr: 0.0010\n",
            "Epoch 131/250\n",
            "27/27 [==============================] - 4s 143ms/step - loss: 60.6310 - mape: 132.8353 - mae: 60.6310 - mse: 48300.5352 - lr: 0.0010\n",
            "Epoch 132/250\n",
            "27/27 [==============================] - 4s 150ms/step - loss: 55.7944 - mape: 117.8168 - mae: 55.7944 - mse: 36191.8633 - lr: 0.0010\n",
            "Epoch 133/250\n",
            "27/27 [==============================] - 4s 151ms/step - loss: 54.8487 - mape: 126.1173 - mae: 54.8487 - mse: 33691.7148 - lr: 0.0010\n",
            "Epoch 134/250\n",
            "27/27 [==============================] - 4s 151ms/step - loss: 53.9496 - mape: 122.6981 - mae: 53.9496 - mse: 41906.2891 - lr: 0.0010\n",
            "Epoch 135/250\n",
            "27/27 [==============================] - 4s 144ms/step - loss: 54.5832 - mape: 121.8546 - mae: 54.5832 - mse: 38763.9102 - lr: 0.0010\n",
            "Epoch 136/250\n",
            "27/27 [==============================] - 4s 151ms/step - loss: 52.3618 - mape: 119.4202 - mae: 52.3618 - mse: 31659.1934 - lr: 0.0010\n",
            "Epoch 137/250\n",
            "27/27 [==============================] - 4s 145ms/step - loss: 52.8549 - mape: 121.4533 - mae: 52.8549 - mse: 50083.9531 - lr: 0.0010\n",
            "Epoch 138/250\n",
            "27/27 [==============================] - 4s 144ms/step - loss: 53.2683 - mape: 120.9506 - mae: 53.2683 - mse: 52187.5703 - lr: 0.0010\n",
            "Epoch 139/250\n",
            "27/27 [==============================] - 4s 144ms/step - loss: 54.1929 - mape: 122.5985 - mae: 54.1929 - mse: 60445.5469 - lr: 0.0010\n",
            "Epoch 140/250\n",
            "27/27 [==============================] - 4s 150ms/step - loss: 50.8801 - mape: 118.1956 - mae: 50.8801 - mse: 47612.9570 - lr: 0.0010\n",
            "Epoch 141/250\n",
            "27/27 [==============================] - 4s 150ms/step - loss: 50.3616 - mape: 120.6206 - mae: 50.3616 - mse: 47715.8867 - lr: 0.0010\n",
            "Epoch 142/250\n",
            "27/27 [==============================] - 4s 144ms/step - loss: 50.9066 - mape: 112.3788 - mae: 50.9066 - mse: 50147.6797 - lr: 0.0010\n",
            "Epoch 143/250\n",
            "27/27 [==============================] - 4s 143ms/step - loss: 50.4638 - mape: 107.0501 - mae: 50.4638 - mse: 45953.7344 - lr: 0.0010\n",
            "Epoch 144/250\n",
            "27/27 [==============================] - 4s 144ms/step - loss: 52.4757 - mape: 110.3613 - mae: 52.4757 - mse: 54441.2734 - lr: 0.0010\n",
            "Epoch 145/250\n",
            "27/27 [==============================] - 4s 143ms/step - loss: 51.9348 - mape: 123.3970 - mae: 51.9348 - mse: 38093.8633 - lr: 0.0010\n",
            "Epoch 146/250\n",
            "27/27 [==============================] - 4s 143ms/step - loss: 51.6535 - mape: 118.0103 - mae: 51.6535 - mse: 34294.5820 - lr: 0.0010\n",
            "Epoch 147/250\n",
            "27/27 [==============================] - 4s 150ms/step - loss: 49.4399 - mape: 109.4291 - mae: 49.4399 - mse: 35198.2695 - lr: 0.0010\n",
            "Epoch 148/250\n",
            "27/27 [==============================] - 4s 143ms/step - loss: 50.5501 - mape: 110.2289 - mae: 50.5501 - mse: 31473.6758 - lr: 0.0010\n",
            "Epoch 149/250\n",
            "27/27 [==============================] - 4s 144ms/step - loss: 53.2338 - mape: 123.7034 - mae: 53.2338 - mse: 46865.1445 - lr: 0.0010\n",
            "Epoch 150/250\n",
            "27/27 [==============================] - 4s 143ms/step - loss: 54.4277 - mape: 116.3716 - mae: 54.4277 - mse: 49292.9023 - lr: 0.0010\n",
            "Epoch 151/250\n",
            "27/27 [==============================] - 4s 144ms/step - loss: 50.3847 - mape: 107.1563 - mae: 50.3847 - mse: 36779.3047 - lr: 1.0000e-04\n",
            "Epoch 152/250\n",
            "27/27 [==============================] - 4s 149ms/step - loss: 43.5204 - mape: 98.9185 - mae: 43.5204 - mse: 29037.0664 - lr: 1.0000e-04\n",
            "Epoch 153/250\n",
            "27/27 [==============================] - 4s 149ms/step - loss: 38.7250 - mape: 92.4007 - mae: 38.7250 - mse: 24662.5703 - lr: 1.0000e-04\n",
            "Epoch 154/250\n",
            "27/27 [==============================] - 4s 150ms/step - loss: 35.7959 - mape: 89.0239 - mae: 35.7959 - mse: 22067.3398 - lr: 1.0000e-04\n",
            "Epoch 155/250\n",
            "27/27 [==============================] - 4s 150ms/step - loss: 33.9411 - mape: 86.4453 - mae: 33.9411 - mse: 20215.7461 - lr: 1.0000e-04\n",
            "Epoch 156/250\n",
            "27/27 [==============================] - 4s 149ms/step - loss: 32.4275 - mape: 83.6667 - mae: 32.4275 - mse: 18456.9707 - lr: 1.0000e-04\n",
            "Epoch 157/250\n",
            "27/27 [==============================] - 4s 150ms/step - loss: 31.4687 - mape: 82.1187 - mae: 31.4687 - mse: 17649.5566 - lr: 1.0000e-04\n",
            "Epoch 158/250\n",
            "27/27 [==============================] - 4s 149ms/step - loss: 30.4664 - mape: 81.3438 - mae: 30.4664 - mse: 17112.5000 - lr: 1.0000e-04\n",
            "Epoch 159/250\n",
            "27/27 [==============================] - 4s 149ms/step - loss: 29.8624 - mape: 79.2894 - mae: 29.8624 - mse: 17123.9746 - lr: 1.0000e-04\n",
            "Epoch 160/250\n",
            "27/27 [==============================] - 4s 149ms/step - loss: 29.6093 - mape: 79.3897 - mae: 29.6093 - mse: 16561.5586 - lr: 1.0000e-04\n",
            "Epoch 161/250\n",
            "27/27 [==============================] - 4s 149ms/step - loss: 29.5557 - mape: 77.4153 - mae: 29.5557 - mse: 16562.2773 - lr: 1.0000e-04\n",
            "Epoch 162/250\n",
            "27/27 [==============================] - 4s 145ms/step - loss: 31.3541 - mape: 77.6782 - mae: 31.3541 - mse: 16901.7324 - lr: 1.0000e-04\n",
            "Epoch 163/250\n",
            "27/27 [==============================] - 4s 143ms/step - loss: 31.4746 - mape: 77.9348 - mae: 31.4746 - mse: 16687.9980 - lr: 1.0000e-04\n",
            "Epoch 164/250\n",
            "27/27 [==============================] - 4s 145ms/step - loss: 31.3299 - mape: 79.9178 - mae: 31.3299 - mse: 16919.8633 - lr: 1.0000e-04\n",
            "Epoch 165/250\n",
            "27/27 [==============================] - 4s 150ms/step - loss: 29.4657 - mape: 76.5790 - mae: 29.4657 - mse: 16048.1357 - lr: 1.0000e-04\n",
            "Epoch 166/250\n",
            "27/27 [==============================] - 4s 145ms/step - loss: 29.6728 - mape: 75.8315 - mae: 29.6728 - mse: 16493.8340 - lr: 1.0000e-04\n",
            "Epoch 167/250\n",
            "27/27 [==============================] - 4s 143ms/step - loss: 29.8773 - mape: 74.6277 - mae: 29.8773 - mse: 16212.2705 - lr: 1.0000e-04\n",
            "Epoch 168/250\n",
            "27/27 [==============================] - 4s 145ms/step - loss: 30.4758 - mape: 75.8666 - mae: 30.4758 - mse: 16634.3730 - lr: 1.0000e-04\n",
            "Epoch 169/250\n",
            "27/27 [==============================] - 4s 146ms/step - loss: 29.6044 - mape: 76.1223 - mae: 29.6044 - mse: 16186.3320 - lr: 1.0000e-04\n",
            "Epoch 170/250\n",
            "27/27 [==============================] - 4s 151ms/step - loss: 28.4073 - mape: 73.0303 - mae: 28.4073 - mse: 15939.6309 - lr: 1.0000e-04\n",
            "Epoch 171/250\n",
            "27/27 [==============================] - 4s 151ms/step - loss: 28.4043 - mape: 72.7768 - mae: 28.4043 - mse: 15988.7617 - lr: 1.0000e-04\n",
            "Epoch 172/250\n",
            "27/27 [==============================] - 4s 151ms/step - loss: 28.3839 - mape: 71.4658 - mae: 28.3839 - mse: 15878.3027 - lr: 1.0000e-04\n",
            "Epoch 173/250\n",
            "27/27 [==============================] - 4s 145ms/step - loss: 29.1109 - mape: 71.0408 - mae: 29.1109 - mse: 16164.6650 - lr: 1.0000e-04\n",
            "Epoch 174/250\n",
            "27/27 [==============================] - 4s 145ms/step - loss: 29.4693 - mape: 73.1573 - mae: 29.4693 - mse: 16000.3691 - lr: 1.0000e-04\n",
            "Epoch 175/250\n",
            "27/27 [==============================] - 4s 150ms/step - loss: 27.9964 - mape: 71.4097 - mae: 27.9964 - mse: 16001.6416 - lr: 1.0000e-04\n",
            "Epoch 176/250\n",
            "27/27 [==============================] - 4s 151ms/step - loss: 27.9361 - mape: 71.3694 - mae: 27.9361 - mse: 15613.8330 - lr: 1.0000e-04\n",
            "Epoch 177/250\n",
            "27/27 [==============================] - 4s 144ms/step - loss: 28.2715 - mape: 69.3566 - mae: 28.2715 - mse: 15880.5791 - lr: 1.0000e-04\n",
            "Epoch 178/250\n",
            "27/27 [==============================] - 4s 143ms/step - loss: 29.3934 - mape: 69.9764 - mae: 29.3934 - mse: 16079.7988 - lr: 1.0000e-04\n",
            "Epoch 179/250\n",
            "27/27 [==============================] - 4s 143ms/step - loss: 28.3678 - mape: 69.8285 - mae: 28.3678 - mse: 15920.5332 - lr: 1.0000e-04\n",
            "Epoch 180/250\n",
            "27/27 [==============================] - 4s 149ms/step - loss: 26.8181 - mape: 68.3501 - mae: 26.8181 - mse: 15624.6650 - lr: 1.0000e-04\n",
            "Epoch 181/250\n",
            "27/27 [==============================] - 4s 143ms/step - loss: 26.9271 - mape: 69.6746 - mae: 26.9271 - mse: 15379.8203 - lr: 1.0000e-04\n",
            "Epoch 182/250\n",
            "27/27 [==============================] - 4s 144ms/step - loss: 27.6520 - mape: 67.9849 - mae: 27.6520 - mse: 15713.8369 - lr: 1.0000e-04\n",
            "Epoch 183/250\n",
            "27/27 [==============================] - 4s 144ms/step - loss: 28.2890 - mape: 69.2514 - mae: 28.2890 - mse: 15762.0732 - lr: 1.0000e-04\n",
            "Epoch 184/250\n",
            "27/27 [==============================] - 4s 145ms/step - loss: 27.8137 - mape: 67.9685 - mae: 27.8137 - mse: 15747.1152 - lr: 1.0000e-04\n",
            "Epoch 185/250\n",
            "27/27 [==============================] - 4s 153ms/step - loss: 26.0771 - mape: 66.9356 - mae: 26.0771 - mse: 15341.3574 - lr: 1.0000e-04\n",
            "Epoch 186/250\n",
            "27/27 [==============================] - 4s 145ms/step - loss: 26.3940 - mape: 65.0119 - mae: 26.3940 - mse: 15547.7217 - lr: 1.0000e-04\n",
            "Epoch 187/250\n",
            "27/27 [==============================] - 4s 144ms/step - loss: 26.9722 - mape: 68.4731 - mae: 26.9722 - mse: 15298.3340 - lr: 1.0000e-04\n",
            "Epoch 188/250\n",
            "27/27 [==============================] - 4s 145ms/step - loss: 28.1880 - mape: 66.5912 - mae: 28.1880 - mse: 15861.4873 - lr: 1.0000e-04\n",
            "Epoch 189/250\n",
            "27/27 [==============================] - 4s 147ms/step - loss: 27.3515 - mape: 65.9979 - mae: 27.3515 - mse: 15419.5078 - lr: 1.0000e-04\n",
            "Epoch 190/250\n",
            "27/27 [==============================] - 4s 148ms/step - loss: 26.5330 - mape: 65.2581 - mae: 26.5330 - mse: 15588.8721 - lr: 1.0000e-04\n",
            "Epoch 191/250\n",
            "27/27 [==============================] - 4s 152ms/step - loss: 25.7372 - mape: 65.1936 - mae: 25.7372 - mse: 15157.9248 - lr: 1.0000e-04\n",
            "Epoch 192/250\n",
            "27/27 [==============================] - 4s 145ms/step - loss: 26.3580 - mape: 66.9579 - mae: 26.3580 - mse: 15118.0889 - lr: 1.0000e-04\n",
            "Epoch 193/250\n",
            "27/27 [==============================] - 4s 146ms/step - loss: 26.9242 - mape: 65.5997 - mae: 26.9242 - mse: 15430.2822 - lr: 1.0000e-04\n",
            "Epoch 194/250\n",
            "27/27 [==============================] - 4s 146ms/step - loss: 26.5978 - mape: 64.2186 - mae: 26.5978 - mse: 15342.9639 - lr: 1.0000e-04\n",
            "Epoch 195/250\n",
            "27/27 [==============================] - 4s 146ms/step - loss: 26.0152 - mape: 63.5039 - mae: 26.0152 - mse: 15226.7236 - lr: 1.0000e-04\n",
            "Epoch 196/250\n",
            "27/27 [==============================] - 4s 146ms/step - loss: 25.9172 - mape: 65.2097 - mae: 25.9172 - mse: 15150.5723 - lr: 1.0000e-04\n",
            "Epoch 197/250\n",
            "27/27 [==============================] - 4s 146ms/step - loss: 26.6618 - mape: 65.4948 - mae: 26.6618 - mse: 15247.4180 - lr: 1.0000e-04\n",
            "Epoch 198/250\n",
            "27/27 [==============================] - 4s 146ms/step - loss: 26.1444 - mape: 62.6761 - mae: 26.1444 - mse: 15032.4316 - lr: 1.0000e-04\n",
            "Epoch 199/250\n",
            "27/27 [==============================] - 4s 146ms/step - loss: 26.6845 - mape: 63.5054 - mae: 26.6845 - mse: 15667.5205 - lr: 1.0000e-04\n",
            "Epoch 200/250\n",
            "27/27 [==============================] - 4s 146ms/step - loss: 26.1387 - mape: 62.2963 - mae: 26.1387 - mse: 15202.1113 - lr: 1.0000e-04\n",
            "Epoch 201/250\n",
            "27/27 [==============================] - 4s 153ms/step - loss: 25.4164 - mape: 61.2024 - mae: 25.4164 - mse: 15443.0410 - lr: 1.0000e-05\n",
            "Epoch 202/250\n",
            "27/27 [==============================] - 4s 153ms/step - loss: 23.2667 - mape: 59.4315 - mae: 23.2667 - mse: 14936.9336 - lr: 1.0000e-05\n",
            "Epoch 203/250\n",
            "27/27 [==============================] - 4s 153ms/step - loss: 22.3062 - mape: 58.2236 - mae: 22.3062 - mse: 14758.8271 - lr: 1.0000e-05\n",
            "Epoch 204/250\n",
            "27/27 [==============================] - 4s 153ms/step - loss: 21.7758 - mape: 57.4986 - mae: 21.7758 - mse: 14652.1328 - lr: 1.0000e-05\n",
            "Epoch 205/250\n",
            "27/27 [==============================] - 4s 153ms/step - loss: 21.2897 - mape: 56.8173 - mae: 21.2897 - mse: 14569.0352 - lr: 1.0000e-05\n",
            "Epoch 206/250\n",
            "27/27 [==============================] - 4s 151ms/step - loss: 20.9550 - mape: 56.4421 - mae: 20.9550 - mse: 14508.7227 - lr: 1.0000e-05\n",
            "Epoch 207/250\n",
            "27/27 [==============================] - 4s 151ms/step - loss: 20.6851 - mape: 56.1669 - mae: 20.6851 - mse: 14462.9434 - lr: 1.0000e-05\n",
            "Epoch 208/250\n",
            "27/27 [==============================] - 4s 150ms/step - loss: 20.4548 - mape: 55.7805 - mae: 20.4548 - mse: 14417.3057 - lr: 1.0000e-05\n",
            "Epoch 209/250\n",
            "27/27 [==============================] - 4s 151ms/step - loss: 20.2671 - mape: 55.5704 - mae: 20.2671 - mse: 14375.4971 - lr: 1.0000e-05\n",
            "Epoch 210/250\n",
            "27/27 [==============================] - 4s 152ms/step - loss: 20.1670 - mape: 55.4487 - mae: 20.1670 - mse: 14352.9287 - lr: 1.0000e-05\n",
            "Epoch 211/250\n",
            "27/27 [==============================] - 4s 151ms/step - loss: 20.1029 - mape: 55.3624 - mae: 20.1029 - mse: 14316.3926 - lr: 1.0000e-05\n",
            "Epoch 212/250\n",
            "27/27 [==============================] - 4s 151ms/step - loss: 20.0106 - mape: 55.1592 - mae: 20.0106 - mse: 14295.7002 - lr: 1.0000e-05\n",
            "Epoch 213/250\n",
            "27/27 [==============================] - 4s 151ms/step - loss: 19.9784 - mape: 55.0078 - mae: 19.9784 - mse: 14280.1641 - lr: 1.0000e-05\n",
            "Epoch 214/250\n",
            "27/27 [==============================] - 4s 151ms/step - loss: 19.9600 - mape: 55.0314 - mae: 19.9600 - mse: 14255.1660 - lr: 1.0000e-05\n",
            "Epoch 215/250\n",
            "27/27 [==============================] - 4s 145ms/step - loss: 20.0811 - mape: 55.2435 - mae: 20.0811 - mse: 14226.7734 - lr: 1.0000e-05\n",
            "Epoch 216/250\n",
            "27/27 [==============================] - 4s 145ms/step - loss: 20.0513 - mape: 55.0044 - mae: 20.0513 - mse: 14219.4268 - lr: 1.0000e-05\n",
            "Epoch 217/250\n",
            "27/27 [==============================] - 4s 145ms/step - loss: 20.0929 - mape: 54.7959 - mae: 20.0929 - mse: 14224.4316 - lr: 1.0000e-05\n",
            "Epoch 218/250\n",
            "27/27 [==============================] - 4s 145ms/step - loss: 19.9628 - mape: 54.7386 - mae: 19.9628 - mse: 14195.3984 - lr: 1.0000e-05\n",
            "Epoch 219/250\n",
            "27/27 [==============================] - 4s 146ms/step - loss: 19.9803 - mape: 54.9269 - mae: 19.9803 - mse: 14178.7246 - lr: 1.0000e-05\n",
            "Epoch 220/250\n",
            "27/27 [==============================] - 4s 152ms/step - loss: 19.9324 - mape: 54.7464 - mae: 19.9324 - mse: 14159.3789 - lr: 1.0000e-05\n",
            "Epoch 221/250\n",
            "27/27 [==============================] - 4s 145ms/step - loss: 20.0541 - mape: 54.5831 - mae: 20.0541 - mse: 14154.8271 - lr: 1.0000e-05\n",
            "Epoch 222/250\n",
            "27/27 [==============================] - 4s 151ms/step - loss: 19.9147 - mape: 54.4987 - mae: 19.9147 - mse: 14109.8271 - lr: 1.0000e-05\n",
            "Epoch 223/250\n",
            "27/27 [==============================] - 4s 152ms/step - loss: 19.9041 - mape: 54.7706 - mae: 19.9041 - mse: 14042.4316 - lr: 1.0000e-05\n",
            "Epoch 224/250\n",
            "27/27 [==============================] - 4s 153ms/step - loss: 19.8790 - mape: 54.5805 - mae: 19.8790 - mse: 13942.3887 - lr: 1.0000e-05\n",
            "Epoch 225/250\n",
            "27/27 [==============================] - 4s 144ms/step - loss: 19.9068 - mape: 54.3354 - mae: 19.9068 - mse: 13917.3154 - lr: 1.0000e-05\n",
            "Epoch 226/250\n",
            "27/27 [==============================] - 4s 151ms/step - loss: 19.8621 - mape: 54.2403 - mae: 19.8621 - mse: 13891.8779 - lr: 1.0000e-05\n",
            "Epoch 227/250\n",
            "27/27 [==============================] - 4s 145ms/step - loss: 19.9171 - mape: 54.6530 - mae: 19.9171 - mse: 13848.0322 - lr: 1.0000e-05\n",
            "Epoch 228/250\n",
            "27/27 [==============================] - 4s 152ms/step - loss: 19.8192 - mape: 54.3796 - mae: 19.8192 - mse: 13810.7900 - lr: 1.0000e-05\n",
            "Epoch 229/250\n",
            "27/27 [==============================] - 4s 152ms/step - loss: 19.7782 - mape: 54.0110 - mae: 19.7782 - mse: 13802.9014 - lr: 1.0000e-05\n",
            "Epoch 230/250\n",
            "27/27 [==============================] - 4s 146ms/step - loss: 19.8025 - mape: 54.1360 - mae: 19.8025 - mse: 13787.0469 - lr: 1.0000e-05\n",
            "Epoch 231/250\n",
            "27/27 [==============================] - 4s 147ms/step - loss: 19.8518 - mape: 54.4228 - mae: 19.8518 - mse: 13752.5078 - lr: 1.0000e-05\n",
            "Epoch 232/250\n",
            "27/27 [==============================] - 4s 153ms/step - loss: 19.7306 - mape: 54.1359 - mae: 19.7306 - mse: 13731.8652 - lr: 1.0000e-05\n",
            "Epoch 233/250\n",
            "27/27 [==============================] - 4s 152ms/step - loss: 19.6921 - mape: 53.7780 - mae: 19.6921 - mse: 13729.0020 - lr: 1.0000e-05\n",
            "Epoch 234/250\n",
            "27/27 [==============================] - 4s 146ms/step - loss: 19.7471 - mape: 54.0237 - mae: 19.7471 - mse: 13709.2969 - lr: 1.0000e-05\n",
            "Epoch 235/250\n",
            "27/27 [==============================] - 4s 147ms/step - loss: 19.7327 - mape: 54.0527 - mae: 19.7327 - mse: 13692.5596 - lr: 1.0000e-05\n",
            "Epoch 236/250\n",
            "27/27 [==============================] - 4s 153ms/step - loss: 19.6097 - mape: 53.9158 - mae: 19.6097 - mse: 13670.2305 - lr: 1.0000e-05\n",
            "Epoch 237/250\n",
            "27/27 [==============================] - 4s 153ms/step - loss: 19.5718 - mape: 53.6708 - mae: 19.5718 - mse: 13654.1191 - lr: 1.0000e-05\n",
            "Epoch 238/250\n",
            "27/27 [==============================] - 4s 146ms/step - loss: 19.6543 - mape: 53.6809 - mae: 19.6543 - mse: 13641.8311 - lr: 1.0000e-05\n",
            "Epoch 239/250\n",
            "27/27 [==============================] - 4s 147ms/step - loss: 19.6420 - mape: 53.7632 - mae: 19.6420 - mse: 13623.3350 - lr: 1.0000e-05\n",
            "Epoch 240/250\n",
            "27/27 [==============================] - 4s 146ms/step - loss: 19.6038 - mape: 53.7644 - mae: 19.6038 - mse: 13593.6260 - lr: 1.0000e-05\n",
            "Epoch 241/250\n",
            "27/27 [==============================] - 4s 152ms/step - loss: 19.5343 - mape: 53.6295 - mae: 19.5343 - mse: 13567.2549 - lr: 1.0000e-05\n",
            "Epoch 242/250\n",
            "27/27 [==============================] - 4s 146ms/step - loss: 19.6291 - mape: 53.5720 - mae: 19.6291 - mse: 13572.6621 - lr: 1.0000e-05\n",
            "Epoch 243/250\n",
            "27/27 [==============================] - 4s 145ms/step - loss: 19.5866 - mape: 53.4278 - mae: 19.5866 - mse: 13564.5059 - lr: 1.0000e-05\n",
            "Epoch 244/250\n",
            "27/27 [==============================] - 4s 144ms/step - loss: 19.5936 - mape: 53.5811 - mae: 19.5936 - mse: 13519.1865 - lr: 1.0000e-05\n",
            "Epoch 245/250\n",
            "27/27 [==============================] - 4s 145ms/step - loss: 19.5376 - mape: 53.5445 - mae: 19.5376 - mse: 13504.0947 - lr: 1.0000e-05\n",
            "Epoch 246/250\n",
            "27/27 [==============================] - 4s 145ms/step - loss: 19.6152 - mape: 53.2630 - mae: 19.6152 - mse: 13511.1416 - lr: 1.0000e-05\n",
            "Epoch 247/250\n",
            "27/27 [==============================] - 4s 145ms/step - loss: 19.5973 - mape: 53.2068 - mae: 19.5973 - mse: 13503.9658 - lr: 1.0000e-05\n",
            "Epoch 248/250\n",
            "27/27 [==============================] - 4s 150ms/step - loss: 19.4998 - mape: 53.2468 - mae: 19.4998 - mse: 13473.3691 - lr: 1.0000e-05\n",
            "Epoch 249/250\n",
            "27/27 [==============================] - 4s 145ms/step - loss: 19.5027 - mape: 53.4760 - mae: 19.5027 - mse: 13417.4648 - lr: 1.0000e-05\n",
            "Epoch 250/250\n",
            "27/27 [==============================] - 4s 145ms/step - loss: 19.5113 - mape: 53.0283 - mae: 19.5113 - mse: 13431.4395 - lr: 1.0000e-05\n",
            "CPU times: user 14min 18s, sys: 18 s, total: 14min 36s\n",
            "Wall time: 19min 12s\n"
          ]
        }
      ],
      "source": [
        " %%time\n",
        "from tensorflow.keras import layers\n",
        "tf.random.set_seed(101)\n",
        "\n",
        "# 1. Setup N-BEATS Block layer\n",
        "nbeats_block_layer = NBeatsBlock(input_size=INPUT_SIZE,\n",
        "                                 theta_size=THETA_SIZE,\n",
        "                                 horizon=HORIZON,\n",
        "                                 n_neurons=N_NEURONS,\n",
        "                                 n_layers=N_LAYERS,\n",
        "                                 name=\"InitialBlock\")\n",
        "\n",
        "# 2. Create input to stacks\n",
        "stack_input = layers.Input(shape=(INPUT_SIZE), name=\"stack_input\")\n",
        "\n",
        "# 3. Create initial backcast and forecast input (backwards predictions are referred to as residuals in the paper)\n",
        "backcast, forecast = nbeats_block_layer(stack_input)\n",
        "# Add in subtraction residual link, thank you to: https://github.com/mrdbourke/tensorflow-deep-learning/discussions/174 \n",
        "residuals = layers.subtract([stack_input, backcast], name=f\"subtract_00\") \n",
        "\n",
        "# 4. Create stacks of blocks\n",
        "for i, _ in enumerate(range(N_STACKS-1)): # first stack is already creted in (3)\n",
        "\n",
        "  # 5. Use the NBeatsBlock to calculate the backcast as well as block forecast\n",
        "  backcast, block_forecast = NBeatsBlock(\n",
        "      input_size=INPUT_SIZE,\n",
        "      theta_size=THETA_SIZE,\n",
        "      horizon=HORIZON,\n",
        "      n_neurons=N_NEURONS,\n",
        "      n_layers=N_LAYERS,\n",
        "      name=f\"NBeatsBlock_{i}\"\n",
        "  )(residuals) # pass it in residuals (the backcast)\n",
        "\n",
        "  # 6. Create the double residual stacking\n",
        "  residuals = layers.subtract([residuals, backcast], name=f\"subtract_{i}\") \n",
        "  forecast = layers.add([forecast, block_forecast], name=f\"add_{i}\")\n",
        "\n",
        "# 7. Put the stack model together\n",
        "model_7 = tf.keras.Model(inputs=stack_input, \n",
        "                         outputs=forecast, \n",
        "                         name=\"model_7_N-BEATS\")\n",
        "\n",
        "# 8. Compile with MAE loss and Adam optimizer\n",
        "model_7.compile(loss=\"mae\",\n",
        "                optimizer=tf.keras.optimizers.Adam(0.001),\n",
        "                metrics=[\"mape\", \"mae\",\"mse\"])\n",
        "\n",
        "# 9. Fit the model with EarlyStopping and ReduceLROnPlateau callbacks\n",
        "history=model_7.fit(train_dataset,\n",
        "            epochs=N_EPOCHS,\n",
        "           \n",
        "            # verbose=0, # prevent large amounts of training outputs\n",
        "            # callbacks=[create_model_checkpoint(model_name=stack_model.name)] # saving model every epoch consumes far too much time\n",
        "            callbacks=[callback,callback,tf.keras.callbacks.EarlyStopping(monitor=\"loss\", patience=200, restore_best_weights=True),\n",
        "                      tf.keras.callbacks.ReduceLROnPlateau(monitor=\"loss\", patience=100, verbose=1)])"
      ]
    },
    {
      "cell_type": "code",
      "source": [
        "plt.plot(history.history['mae'])\n",
        "plt.xlabel(\"epochs\")\n",
        "plt.ylabel(\"mae\")"
      ],
      "metadata": {
        "colab": {
          "base_uri": "https://localhost:8080/",
          "height": 296
        },
        "id": "s-D3y_izOHUY",
        "outputId": "989a7ccc-5d90-45b2-dc93-8e3567e07ee0"
      },
      "execution_count": null,
      "outputs": [
        {
          "output_type": "execute_result",
          "data": {
            "text/plain": [
              "Text(0, 0.5, 'mae')"
            ]
          },
          "metadata": {},
          "execution_count": 38
        },
        {
          "output_type": "display_data",
          "data": {
            "image/png": "[encoded data removed]",
            "text/plain": [
              "<Figure size 432x288 with 1 Axes>"
            ]
          },
          "metadata": {
            "needs_background": "light"
          }
        }
      ]
    },
    {
      "cell_type": "code",
      "execution_count": null,
      "metadata": {
        "id": "_xqemyAoVHOq"
      },
      "outputs": [],
      "source": [
        "def make_preds(model, input_data):\n",
        "  \"\"\"\n",
        "  Uses model to make predictions on input_data.\n",
        "\n",
        "  Parameters\n",
        "  ----------\n",
        "  model: trained model \n",
        "  input_data: windowed input data (same kind of data model was trained on)\n",
        "\n",
        "  Returns model predictions on input_data.\n",
        "  \"\"\"\n",
        "  forecast = model.predict(input_data)\n",
        "  return tf.squeeze(forecast) # return 1D array of predictions"
      ]
    },
    {
      "cell_type": "code",
      "execution_count": null,
      "metadata": {
        "id": "kTWJWhcySNIM"
      },
      "outputs": [],
      "source": [
        "df=pd.read_csv('train.csv',index_col=False)\n",
        "# y_test=df['May-21']\n",
        "# df=df.drop(['May-21'],axis=1)\n",
        "# n e w s\n",
        "df_east=df.loc[df['Region'] == \"EAST\"]\n",
        "df_west=df.loc[df['Region'] == \"WEST\"]\n",
        "df_north=df.loc[df['Region'] == \"NORTH\"]\n",
        "df_south=df.loc[df['Region'] == \"SOUTH\"]\n",
        "\n"
      ]
    },
    {
      "cell_type": "code",
      "execution_count": null,
      "metadata": {
        "id": "Ka_8yanxTJHy"
      },
      "outputs": [],
      "source": [
        "df_north=df_north.iloc[:,-12:]\n",
        "df_east=df_east.iloc[:,-12:]\n",
        "df_west=df_west.iloc[:,-12:]\n",
        "df_south=df_south.iloc[:,-12:]\n",
        "\n",
        "\n",
        "# n s e w"
      ]
    },
    {
      "cell_type": "code",
      "execution_count": null,
      "metadata": {
        "id": "zW6BbyZ8T3Bv"
      },
      "outputs": [],
      "source": [
        "x=[n,s,e,w]\n",
        "x=normalize(x)\n",
        "x_final=[]\n",
        "df_north=np.array(df_north,dtype=float)\n",
        "for i in df_north:\n",
        "  t=np.insert(i,0,0.00)\n",
        "  x_final.append(t)\n",
        "df_east=np.array(df_east,dtype=float)\n",
        "for i in df_east:\n",
        "  t=np.insert(i,0,x[2])\n",
        "  x_final.append(t)\n",
        "df_west=np.array(df_west,dtype=float)\n",
        "for i in df_west:\n",
        "  t=np.insert(i,0,x[3])\n",
        "  x_final.append(t)\n",
        "df_south=np.array(df_south,dtype=float)\n",
        "for i in df_south:\n",
        "  t=np.insert(i,0,x[1])\n",
        "  x_final.append(t)\n",
        "\n",
        "\n",
        "\n",
        "\n"
      ]
    },
    {
      "cell_type": "code",
      "execution_count": null,
      "metadata": {
        "id": "cckOaGGraT7x"
      },
      "outputs": [],
      "source": [
        "x_final=np.array(x_final)"
      ]
    },
    {
      "cell_type": "code",
      "execution_count": null,
      "metadata": {
        "id": "EtWhYS8FVIPW"
      },
      "outputs": [],
      "source": [
        "# Make predictions with N-BEATS model\n",
        "y=model_7.predict(x_final)"
      ]
    },
    {
      "cell_type": "code",
      "source": [
        "y=np.array(y,dtype=int)\n"
      ],
      "metadata": {
        "id": "pJvm2j4IxPOD"
      },
      "execution_count": null,
      "outputs": []
    },
    {
      "cell_type": "code",
      "source": [
        "from sklearn.metrics import mean_absolute_percentage_error\n",
        "mape = mean_absolute_percentage_error(y_test, y)\n",
        "print(mape)"
      ],
      "metadata": {
        "colab": {
          "base_uri": "https://localhost:8080/"
        },
        "id": "nox62Oa-w9Y_",
        "outputId": "324ac3a3-4087-491e-91bd-391ca2112650"
      },
      "execution_count": null,
      "outputs": [
        {
          "output_type": "stream",
          "name": "stdout",
          "text": [
            "2.533105753630635\n"
          ]
        }
      ]
    },
    {
      "cell_type": "code",
      "execution_count": null,
      "metadata": {
        "id": "nzWaYGGDUT5M"
      },
      "outputs": [],
      "source": [
        "y=np.array(y,dtype=int)"
      ]
    },
    {
      "cell_type": "code",
      "execution_count": null,
      "metadata": {
        "id": "T9kTiQRVbM61"
      },
      "outputs": [],
      "source": [
        "z=pd.DataFrame(y)"
      ]
    },
    {
      "cell_type": "code",
      "execution_count": null,
      "metadata": {
        "colab": {
          "base_uri": "https://localhost:8080/",
          "height": 17
        },
        "id": "AeXxAuG_bW4R",
        "outputId": "2267dad0-61f0-40f4-b4d1-dcc207ced7e9"
      },
      "outputs": [
        {
          "output_type": "display_data",
          "data": {
            "application/javascript": [
              "\n",
              "    async function download(id, filename, size) {\n",
              "      if (!google.colab.kernel.accessAllowed) {\n",
              "        return;\n",
              "      }\n",
              "      const div = document.createElement('div');\n",
              "      const label = document.createElement('label');\n",
              "      label.textContent = `Downloading \"${filename}\": `;\n",
              "      div.appendChild(label);\n",
              "      const progress = document.createElement('progress');\n",
              "      progress.max = size;\n",
              "      div.appendChild(progress);\n",
              "      document.body.appendChild(div);\n",
              "\n",
              "      const buffers = [];\n",
              "      let downloaded = 0;\n",
              "\n",
              "      const channel = await google.colab.kernel.comms.open(id);\n",
              "      // Send a message to notify the kernel that we're ready.\n",
              "      channel.send({})\n",
              "\n",
              "      for await (const message of channel.messages) {\n",
              "        // Send a message to notify the kernel that we're ready.\n",
              "        channel.send({})\n",
              "        if (message.buffers) {\n",
              "          for (const buffer of message.buffers) {\n",
              "            buffers.push(buffer);\n",
              "            downloaded += buffer.byteLength;\n",
              "            progress.value = downloaded;\n",
              "          }\n",
              "        }\n",
              "      }\n",
              "      const blob = new Blob(buffers, {type: 'application/binary'});\n",
              "      const a = document.createElement('a');\n",
              "      a.href = window.URL.createObjectURL(blob);\n",
              "      a.download = filename;\n",
              "      div.appendChild(a);\n",
              "      a.click();\n",
              "      div.remove();\n",
              "    }\n",
              "  "
            ],
            "text/plain": [
              "<IPython.core.display.Javascript object>"
            ]
          },
          "metadata": {}
        },
        {
          "output_type": "display_data",
          "data": {
            "application/javascript": [
              "download(\"download_ed6af6dd-ac69-4907-9493-e2501f592e46\", \"final1.csv\", 7491)"
            ],
            "text/plain": [
              "<IPython.core.display.Javascript object>"
            ]
          },
          "metadata": {}
        }
      ],
      "source": [
        "from google.colab import files\n",
        "z.to_csv('final1.csv')\n",
        "files.download(\"final1.csv\")"
      ]
    }
  ],
  "metadata": {
    "accelerator": "GPU",
    "colab": {
      "name": "n-beat.ipynb",
      "provenance": []
    },
    "kernelspec": {
      "display_name": "Python 3",
      "name": "python3"
    },
    "language_info": {
      "name": "python"
    }
  },
  "nbformat": 4,
  "nbformat_minor": 0
}